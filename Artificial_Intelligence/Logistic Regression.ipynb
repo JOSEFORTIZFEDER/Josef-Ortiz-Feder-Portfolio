{
  "cells": [
    {
      "cell_type": "markdown",
      "metadata": {
        "id": "FvRyYkqEKQiU"
      },
      "source": [
        "# Logistic Regression Homework\n",
        "\n",
        "This is the 2nd assignment for CAP 4630 and we will implement logistic regression and apply it to two\n",
        "different datasets. \\\n",
        "You will use **\"Tasks\"** and **\"Hints\"** to finish the work. **(Total 100 Points)** \\\n",
        "You are **not** allowed to use Machine Learning libaries such as Scikit-learn and Keras.\n",
        "\n",
        "**Task Overview:**\n",
        "- Logistic Regression "
      ]
    },
    {
      "cell_type": "markdown",
      "metadata": {
        "id": "DiLl8ae9KQiX"
      },
      "source": [
        "## 1 - Logistic Regression ##\n",
        "### 1.1 Packages\n",
        "\n",
        "Import useful packages for scientific computing and data processing. \n",
        "\n",
        "**Tasks:**\n",
        "1. Import numpy and rename it to np.\n",
        "2. Import pandas and rename it to pd.\n",
        "3. Import the pyplot function in the libraray of matplotlib and rename it to plt.\n",
        "\n",
        "References:\n",
        "- [numpy](www.numpy.org) is the fundamental package for scientific computing with Python.\n",
        "- [matplotlib](http://matplotlib.org) is a famous library to plot graphs in Python.\n",
        "\n",
        "**Attention:**\n",
        "1. After this renaming, you will use the new name to call functions. For example, **numpy** will become **np** in the following sections."
      ]
    },
    {
      "cell_type": "code",
      "execution_count": 257,
      "metadata": {
        "id": "A2MvS1XCKQiY"
      },
      "outputs": [],
      "source": [
        "# Import and rename libraries here\n",
        "import numpy as np\n",
        "import pandas as pd\n",
        "import matplotlib.pyplot as plt\n",
        "import math"
      ]
    },
    {
      "cell_type": "markdown",
      "metadata": {
        "collapsed": true,
        "id": "WWq4xkmlKQiZ"
      },
      "source": [
        "### 1.2 - Data Preparation ##\n",
        "\n",
        "Prepare the data for regression task. **(20 Points)**\n",
        "\n",
        "**Tasks:**\n",
        "1. Load data for logistic regression.\n",
        "2. **Generate the SCATTER PLOT of the data**.\n",
        "\n",
        "**Hints:**\n",
        "1. The data file is \"data_logistic.csv\", which are exam scores for students.\n",
        "2. The data is organized by column: x1 (exam 1 score), x2 (exam 2 score), and label y (pass 1 or fail 0).\n",
        "3. Please use different colors for postive(label=1) and negative(label=0) data.\n",
        "4. An example of scatter plots is shown below.\n",
        "\n",
        "![](https://drive.google.com/uc?export=view&id=1CPv5s4W8SkUMa_sXCIz-NejSnFj-e1IH)"
      ]
    },
    {
      "cell_type": "code",
      "source": [],
      "metadata": {
        "id": "Wn7deDMZJ3pY"
      },
      "execution_count": 257,
      "outputs": []
    },
    {
      "cell_type": "code",
      "execution_count": 258,
      "metadata": {
        "colab": {
          "base_uri": "https://localhost:8080/",
          "height": 537
        },
        "id": "XI3_4gDcKQiZ",
        "outputId": "c606f70d-e949-4e2a-cb8b-f1942b0efdeb"
      },
      "outputs": [
        {
          "output_type": "display_data",
          "data": {
            "text/plain": [
              "<Figure size 864x648 with 1 Axes>"
            ],
            "image/png": "[encoded data removed]"
          },
          "metadata": {
            "needs_background": "light"
          }
        }
      ],
      "source": [
        "# Preprocess input data and generate plots\n",
        "plt.rcParams['figure.figsize'] = (12.0, 9.0)\n",
        "#plt.rcParams[\"figure.autolayout\"] = True\n",
        "\n",
        "data = pd.read_csv('data_logistic.csv')\n",
        "x1 = data.iloc[:, 0]\n",
        "x2 = data.iloc[:, 1]\n",
        "y = data.iloc[:, 2]\n",
        "yequalsOne = data.loc[y == 1]\n",
        "yequalsZero = data.loc[y == 0]\n",
        "plt.scatter(yequalsOne.iloc[:, 0], yequalsOne.iloc[:, 1], label='Positive', marker ='+')\n",
        "plt.scatter(yequalsZero.iloc[:, 0], yequalsZero.iloc[:, 1], label='Negative')\n",
        "\n",
        "#plt.scatter(x1, x2)\n",
        "#plt.scatter(x2)\n",
        "plt.legend()\n",
        "plt.show()"
      ]
    },
    {
      "cell_type": "markdown",
      "metadata": {
        "id": "4LQ0dl-9KQiZ"
      },
      "source": [
        "### 1.3 - Sigmoid function ##\n",
        "\n",
        "\n",
        "Implement sigmoid function so it can be called by the rest of your program. **(20 Points)**\n",
        "\n",
        "**Tasks:**\n",
        "1. Implement the sigmoid function (**def sigmoid(z):**). \n",
        "2. Test the sigmoid function by function **plotting** with test data (X, Y) where Y = sigmoid(X). \n",
        "\n",
        "**Hints:**  \n",
        "1. Given the class material, sigmoid function is defined as:\n",
        "$g(z) = \\frac{1}{1+e^{-z}}$.\n",
        "2. You may consider X = np.linspace(-5, 5, 1000) to plot the curve.\n",
        "3. Plot Y against X.\n",
        "4. An example of plot for validation is shown below:\n",
        "\n",
        "![](https://drive.google.com/uc?export=view&id=18j5oHdw78uVm2WwHsdIb4hwhpXDxR37S)"
      ]
    },
    {
      "cell_type": "code",
      "execution_count": 259,
      "metadata": {
        "id": "LiAWP8dlKQia"
      },
      "outputs": [],
      "source": [
        "# Implement sigmoid fuction here\n",
        "def sigmoid(z):\n",
        "  x = 1/(1 + np.exp(-z))\n",
        "  return x\n",
        "def net_input(theta, x):\n",
        "    # Computes the weighted sum of inputs\n",
        "    return np.dot(x, theta)\n",
        "\n",
        "def probability(theta, x):\n",
        "    # Returns the probability after passing through sigmoid\n",
        "    return sigmoid(net_input(theta, x))"
      ]
    },
    {
      "cell_type": "code",
      "execution_count": 260,
      "metadata": {
        "colab": {
          "base_uri": "https://localhost:8080/",
          "height": 568
        },
        "id": "L_VdZywGKQia",
        "outputId": "acfa2f91-a7a8-4100-bcba-c1569c192709"
      },
      "outputs": [
        {
          "output_type": "execute_result",
          "data": {
            "text/plain": [
              "Text(0, 0.5, 'Sigmoid(X)')"
            ]
          },
          "metadata": {},
          "execution_count": 260
        },
        {
          "output_type": "display_data",
          "data": {
            "text/plain": [
              "<Figure size 864x648 with 1 Axes>"
            ],
            "image/png": "[encoded data removed]"
          },
          "metadata": {
            "needs_background": "light"
          }
        }
      ],
      "source": [
        "# Plot data here\n",
        "x = np.linspace(-5, 5, 1000)\n",
        "plt.plot(x, sigmoid(x))\n",
        "plt.xlabel(\"x\")\n",
        "plt.ylabel(\"Sigmoid(X)\")\n"
      ]
    },
    {
      "cell_type": "markdown",
      "metadata": {
        "id": "YiPCpGEfKQib"
      },
      "source": [
        "### 1.4 - Cost function and gradient ##\n",
        "\n",
        "Implement the cross entropy cost function and its gradient for logistic regression. **(30 Points)**\n",
        "\n",
        "**Tasks:**\n",
        "1. Implement the \"cal_cost\" to compute the cost.\n",
        "2. Implement the \"cal_grad\" to compute the gradients.\n",
        "3. Test \"cal_cost\" and \"cal_grad\" with initial values and print out the results.\n",
        "\n",
        "**Hint:**\n",
        "1. The cross entropy cost function (J(θ)) in logistic regression is shown below. It involves two terms, including ylog(h) and (1-y)log(1-h) where h is the function of x.\n",
        "\n",
        "![](https://drive.google.com/uc?export=view&id=1xLhlPFI4wekwuA7lFm7ebRVt0XBZk3e7)\n",
        "\n",
        "2. The gradient of the cost J(θ) is a vector of the same length as θ where the $j$th element (for $j = 0, 1, . . . , n)$ is defined below. You may do a hand calculation to justify the first order derivative with the term above.\n",
        "\n",
        "![](https://drive.google.com/uc?export=view&id=1xfA0A0xyRv2L5JZIdedAmEZxZ3DwpOCF)\n",
        "\n",
        "3. When you implement J(θ), please use eps = 1e-15 to prevent possible \"divide by 0 exception\" in second term. You may think about the reason.\n",
        "4. You may consider the below templates for two functions:\n",
        "\n",
        "    def cal_cost(theta, X, y):\n",
        " \n",
        "        htheta = ...\n",
        "        term1 = ...  /* matrix_multiplication(log(htheta), y)\n",
        "        term2 = ...  /* matrix_multiplication(log(1-htheta+eps), (1-y))\n",
        "        J = - 1 / m * (term1 + term2) \n",
        "        \n",
        "        return cost\n",
        "        \n",
        "    \n",
        "    def cal_grad(theta, X, y):\n",
        "        \n",
        "        htheta = ...\n",
        "        term1 = ... /* matrix_multiplication(transpose(X), (htheta - y))  //you may think about why transpose(x)\n",
        "        grad = 1 / m * term1 \n",
        "    \n",
        "        return grad\n",
        "5. It involves matrix multiplication and you may consider the function of np.matmul or np.dot.   \n",
        "        \n",
        "6. Initialize the intercept term (constant term) with **ones** and the theta with **zeros**. Test the functions with these initial values. \\\n",
        "    **Expected outputs:**\\\n",
        "    Cost at initial theta : 0.6931471805599445\\\n",
        "    Gradient at inital theta : [-0.1        -10.91242026 -11.73652937]\n"
      ]
    },
    {
      "cell_type": "code",
      "execution_count": 261,
      "metadata": {
        "colab": {
          "base_uri": "https://localhost:8080/"
        },
        "id": "shA6r9aUKQic",
        "outputId": "5659b38e-e802-4120-a038-9e887ee4f3de"
      },
      "outputs": [
        {
          "output_type": "stream",
          "name": "stdout",
          "text": [
            "0.6931471805599445\n",
            "[ -0.1        -10.91242026 -11.73652937]\n"
          ]
        }
      ],
      "source": [
        "\n",
        "insert = np.array([1, 1, 1, 1, 1, 1, 1, 1, 1, 1, 1, 1, 1, 1, 1, 1, 1, 1, 1, 1, 1, 1, 1, 1, 1, 1, 1, 1, 1, 1, 1, 1, 1, 1, 1, 1, 1, 1, 1, 1, 1, 1, 1, 1, 1, 1, 1, 1, 1, 1, 1, 1, 1, 1, 1, 1, 1, 1, 1, 1, 1, 1, 1, 1, 1, 1, 1, 1, 1, 1, 1, 1, 1, 1, 1, 1, 1, 1, 1, 1])\n",
        "#insert = np.c_[np.ones((X.shape[0], 1)), X]\n",
        "def cal_cost(htheta, X, y):\n",
        "  eps = 1 * 10**-15\n",
        "  #htheta = sigmoid(theta)\n",
        "  #htheta = probability(theta, insert)\n",
        "  term1 = np.dot(np.log(htheta), y)\n",
        "  term2 = np.dot(np.log(1-htheta+eps), (1-y))\n",
        "  J = -1 / 80 * (term1+term2)\n",
        "  return J\n",
        "\n",
        "def cal_grad(htheta, X, y):\n",
        "  #htheta = sigmoid(theta)\n",
        "  #htheta = probability(theta, insert)\n",
        "  term1 = np.dot(np.transpose(X), (htheta-y))\n",
        "  grad = 1 / 80 * term1\n",
        "  return grad\n",
        "\n",
        "\n",
        "Xx1 = x1.to_numpy()\n",
        "Xx2 = x2.to_numpy()\n",
        "\n",
        "Yy = y.to_numpy()\n",
        "\n",
        "BigArray = np.array(list(zip(Xx1, Xx2)))\n",
        "BigArray = np.concatenate((np.ones((BigArray.shape[0], 1)), BigArray), axis = 1)\n",
        "theta =  np.zeros(BigArray.shape[1])\n",
        "htheta = probability(theta, BigArray)\n",
        "Yy = np.array(y)\n",
        "#print(Xx1.ndim)\n",
        "#print(Xx1)\n",
        "#print(Xx2)\n",
        "#print(Yy)\n",
        "#\n",
        "BigArray = np.vstack((insert, Xx1, Xx2)).T\n",
        "\n",
        "\n",
        "#print(BigArray)\n",
        "#print(x2)\n",
        "#print(y)\n",
        "#X = {x1, x2}\n",
        "#theta = np.zeros(BigArray.shape[1])\n",
        "#theta = 0\n",
        "#print(X.shape[0])\n",
        "#theta = np.array([0,0,0,0,0,0,0,0,0,0,0,0,0,0,0,0,0,0,0,0,0,0,0,0,0,0,0,0,0,0,0,0,0,0,0,0,0,0,0,0,0,0,0,0,0,0,0,0,0,0,0,0,0,0,0,0,0,0,0,0,0,0,0,0,0,0,0,0,0,0,0,0,0,0,0,0,0,0,0,0]);\n",
        "print(cal_cost(htheta, BigArray, Yy))\n",
        "\n",
        "print(cal_grad(htheta, BigArray, Yy))"
      ]
    },
    {
      "cell_type": "markdown",
      "source": [],
      "metadata": {
        "id": "BaY3k0uDJR0c"
      }
    },
    {
      "cell_type": "markdown",
      "metadata": {
        "id": "LAT64nxOKQic"
      },
      "source": [
        "## 1.5 Train parameters with Gradient Descent ##\n",
        "\n",
        "\n",
        "Train parameters using Gradient Descent. **(15 Points)**\n",
        "\n",
        "**Tasks:**\n",
        "1. Calculate best fit theta by Gradient Descent with learning rate of **0.001 (1e-3)** and epoch of **80K**. The initial theta from above blocks is used as initial values.\n",
        "2. Print out the best theta (the last one is considered as the best here) and its corresponding cost.\n",
        "3. **Plot the decision boundary**.\n",
        "\n",
        "**Hints:**\n",
        "1. You may take gradient descent in homework 1 as an template.\n",
        "2. Derive the boundary line from **sigmoid(theta[0]+ X1 * theta[1] + X2* theta[2])=0.5**. Think about why we get the line by setting **the activated probability to 0.5**. Also, try to calculate the final relationship between X1 and X2. When sigmoid(X) = 0.5, what is the value of x? Check the generated plot in 1.3.\n",
        "3. The validation of first 5 epochs (updated theta and cost): \\\n",
        "------Epoch 0------\\\n",
        "Theta: [0.0001     0.01091242 0.01173653]\\\n",
        "Cost: 0.6996118077359638\\\n",
        "------Epoch 1------\\\n",
        "Theta: [-0.0001129   0.00053949  0.00229352]\\\n",
        "Cost: 0.6649331468590681\\\n",
        "------Epoch 2------\\\n",
        "Theta: [-5.93604956e-05  8.33145873e-03  1.07754324e-02]\\\n",
        "Cost: 0.6679914364992459\\\n",
        "------Epoch 3------\\\n",
        "Theta: [-0.0002356   0.0004607   0.00370829]\\\n",
        "Cost: 0.6545873034874964\\\n",
        "------Epoch 4------\\\n",
        "Theta: [-0.00020363  0.00683227  0.01065138]\\\n",
        "Cost: 0.6563302142684528\n",
        "4. You may take the plots below as an exmample: \n",
        "\n",
        "![](https://drive.google.com/uc?export=view&id=1xLg9LrIF888gGXj3zRAG9iJLsyAmgPQg)\n",
        "\n",
        "5. It may take ~1 min to finish running."
      ]
    },
    {
      "cell_type": "code",
      "execution_count": 262,
      "metadata": {
        "colab": {
          "base_uri": "https://localhost:8080/"
        },
        "id": "-ph42JZGKQid",
        "outputId": "23e7861e-9637-4071-db8a-db68e390d378"
      },
      "outputs": [
        {
          "output_type": "stream",
          "name": "stdout",
          "text": [
            "[-3.88329777  0.02947987  0.03935448]\n",
            "0.43838894881827817\n"
          ]
        }
      ],
      "source": [
        "# Gradient Descent Implementation Here\n",
        "#Using the example from the lecture as a guide:\n",
        "#theta = np.array([0,0,0,0,0,0,0,0,0,0,0,0,0,0,0,0,0,0,0,0,0,0,0,0,0,0,0,0,0,0,0,0,0,0,0,0,0,0,0,0,0,0,0,0,0,0,0,0,0,0,0,0,0,0,0,0,0,0,0,0,0,0,0,0,0,0,0,0,0,0,0,0,0,0,0,0,0,0,0,0]);\n",
        "theta = np.zeros(BigArray.shape[1])\n",
        "#print(theta)# theta\n",
        "\n",
        "htheta = probability(theta, BigArray)\n",
        "grad = cal_grad(htheta, BigArray, Yy)\n",
        "\n",
        "L = 0.001  # The learning Rate\n",
        "epochs = 80000  # The number of iterations to perform gradient descent\n",
        "\n",
        "n = float(len(Xx1)) # Number of elements in X\n",
        "\n",
        "# Performing Gradient Descent \n",
        "for i in range(epochs): \n",
        "    #print(grad)\n",
        "    #print(theta)\n",
        "    theta = theta - L * grad\n",
        "\n",
        "    htheta = probability(theta, BigArray)\n",
        "    grad = cal_grad(htheta, BigArray, Yy)\n",
        "    cost = cal_cost(htheta, BigArray, Yy)\n",
        "\n",
        "print(theta)\n",
        "print(cost)\n"
      ]
    },
    {
      "cell_type": "code",
      "execution_count": 263,
      "metadata": {
        "colab": {
          "base_uri": "https://localhost:8080/",
          "height": 537
        },
        "id": "kVDxOjttKQid",
        "outputId": "d9a86c89-3eb8-4eb6-aedb-b6b3d7eb02fc"
      },
      "outputs": [
        {
          "output_type": "display_data",
          "data": {
            "text/plain": [
              "<Figure size 864x648 with 1 Axes>"
            ],
            "image/png": "[encoded data removed]"
          },
          "metadata": {
            "needs_background": "light"
          }
        }
      ],
      "source": [
        "# Draw Decision Boundary Here\n",
        "#sigmoid(theta[0]+ X1 * theta[1] + X2* theta[2])=0.5\n",
        "#print(sigmoid(theta[0] + Xx1 * theta[1] + Xx2 * theta[2]) )\n",
        "plt.scatter(yequalsOne.iloc[:, 0], yequalsOne.iloc[:, 1], label='Positive', marker ='+')\n",
        "plt.scatter(yequalsZero.iloc[:, 0], yequalsZero.iloc[:, 1], label='Negative')\n",
        "plot_x = np.linspace(30,100,80);\n",
        "# I know I'm on the right track here with the formula.\n",
        "plot_y = (theta[0] / theta[2]) - ((theta[1] * plot_x) / theta[2])\n",
        "plt.plot(plot_x, plot_y);\n",
        "plt.show()"
      ]
    },
    {
      "cell_type": "markdown",
      "metadata": {
        "id": "a65iscpqKQie"
      },
      "source": [
        "\n",
        "### 1.6 Evaluating Logistic Regression\n",
        "\n",
        "Evaluate the model with given data. **(15 Points)**\n",
        "\n",
        "**Tasks:**\n",
        "1. Calculate the training accuracy and **PRINT IT OUT**.\n",
        "2. Evaluate the predicted probability of the learnt model with x1 = 56 and x2 = 32 and **PRINT IT OUT**.\n",
        "\n",
        "\n",
        "**Hints:**  \n",
        "1. Positive(prediction>0.5) and negative(prediction<=0.5). \n",
        "2. The prediction results are based on acceptance probability. Given the two exam scores, we expected the model yields either high probability of \"fail\" or low probability of \"pass\".\n",
        "3. Training accuracy should be around **85%**."
      ]
    },
    {
      "cell_type": "code",
      "execution_count": 264,
      "metadata": {
        "id": "16nHxFyWKQie"
      },
      "outputs": [],
      "source": [
        "# Evaluate the model\n"
      ]
    }
  ],
  "metadata": {
    "coursera": {
      "course_slug": "neural-networks-deep-learning",
      "graded_item_id": "XaIWT",
      "launcher_item_id": "zAgPl"
    },
    "kernelspec": {
      "display_name": "Python 3",
      "language": "python",
      "name": "python3"
    },
    "language_info": {
      "codemirror_mode": {
        "name": "ipython",
        "version": 3
      },
      "file_extension": ".py",
      "mimetype": "text/x-python",
      "name": "python",
      "nbconvert_exporter": "python",
      "pygments_lexer": "ipython3",
      "version": "3.8.5"
    },
    "colab": {
      "provenance": []
    }
  },
  "nbformat": 4,
  "nbformat_minor": 0
}