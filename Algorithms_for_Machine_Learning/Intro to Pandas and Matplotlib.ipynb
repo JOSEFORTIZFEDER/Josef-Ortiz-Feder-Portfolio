{
  "cells": [
    {
      "cell_type": "markdown",
      "id": "c00bf530",
      "metadata": {
        "id": "c00bf530"
      },
      "source": [
        "# Homework 2 - Tools\n",
        "\n",
        "You will write code and discussion texts into code and text cells in this notebook.\n",
        "\n",
        "If a block starts with \\#TODO:, this means that you need to write something there.\n",
        "\n",
        "\n",
        "__Grading:__ The total points achievable are 10. You get 2 points for submission. Each subproblem gives you one point."
      ]
    },
    {
      "cell_type": "code",
      "execution_count": 1,
      "id": "a440a191",
      "metadata": {
        "id": "a440a191"
      },
      "outputs": [],
      "source": [
        "import pandas as pd\n",
        "import numpy as np\n",
        "import matplotlib.pyplot as plt"
      ]
    },
    {
      "cell_type": "markdown",
      "id": "691d1a9f",
      "metadata": {
        "id": "691d1a9f"
      },
      "source": [
        "## P1: numpy array creation and printing\n",
        "\n",
        "* Create a python list implementing a 5x5 array, with each element having , filled in with x^2 + y^2.\n",
        "* Create from it the corresponding numpy array \"arr\"\n",
        "* Print the shape of the array (should be 5 by 5)\n",
        "* Print the type of the array (should be float64)"
      ]
    },
    {
      "cell_type": "code",
      "execution_count": 11,
      "id": "4f94fcd7",
      "metadata": {
        "colab": {
          "base_uri": "https://localhost:8080/"
        },
        "id": "4f94fcd7",
        "outputId": "aa97d90d-8eaf-407b-9ae3-bab816eceda3"
      },
      "outputs": [
        {
          "output_type": "stream",
          "name": "stdout",
          "text": [
            "Type:  <class 'numpy.float64'>\n",
            "Shape:  (5, 5)\n",
            "[[ 0.  1.  4.  9. 16.]\n",
            " [ 1.  2.  5. 10. 17.]\n",
            " [ 4.  5.  8. 13. 20.]\n",
            " [ 9. 10. 13. 18. 25.]\n",
            " [16. 17. 20. 25. 32.]]\n"
          ]
        }
      ],
      "source": [
        "# TODO: implement here\n",
        "arr = np.array([[x**2+y**2 for y in range(5)] for x in range(5) ], dtype=np.float64)\n",
        "\n",
        "print (\"Type: \", type(arr[0][0]))\n",
        "print(\"Shape: \", arr.shape)\n",
        "print(arr)\n"
      ]
    },
    {
      "cell_type": "markdown",
      "id": "fdb41036",
      "metadata": {
        "id": "fdb41036"
      },
      "source": [
        "## P2: array slicing and comparisons\n",
        "\n",
        "* Extract the second column from arr\n",
        "* Extract the second row from arr\n",
        "* Check whether they are equal and print accordingly\n",
        "* Create a new array arr2 which is a copy of the transpose of the original array.\n"
      ]
    },
    {
      "cell_type": "code",
      "execution_count": 16,
      "id": "2b3cf980",
      "metadata": {
        "colab": {
          "base_uri": "https://localhost:8080/"
        },
        "id": "2b3cf980",
        "outputId": "2d9afef5-812c-4be2-93f1-858d788b7faf"
      },
      "outputs": [
        {
          "output_type": "stream",
          "name": "stdout",
          "text": [
            "col_2 and row_2 are equal\n",
            "Transpose of arr:\n",
            "[[ 0.  1.  4.  9. 16.]\n",
            " [ 1.  2.  5. 10. 17.]\n",
            " [ 4.  5.  8. 13. 20.]\n",
            " [ 9. 10. 13. 18. 25.]\n",
            " [16. 17. 20. 25. 32.]]\n"
          ]
        }
      ],
      "source": [
        "# TODO: implement here\n",
        "col_2 = np.array(arr[:, 1])\n",
        "row_2 = np.array(arr[1])\n",
        "#print (col_2)\n",
        "#print (row_2)\n",
        "if(np.array_equal(col_2, row_2)):\n",
        "  print(\"col_2 and row_2 are equal\")\n",
        "else:\n",
        "  print(\"col_2 and row_2 are not equal\")\n",
        "\n",
        "arr2 = np.transpose(arr)\n",
        "print(\"Transpose of arr:\")\n",
        "print (arr2)"
      ]
    },
    {
      "cell_type": "markdown",
      "id": "7ef0bbee",
      "metadata": {
        "id": "7ef0bbee"
      },
      "source": [
        "## P3: Using the random number generator\n",
        "* Create a random number generator in numpy.\n",
        "* Create a numpy array A of size 17 by 17 filled with zeros.\n",
        "* Fill the array with number drawn from a uniform distribution between 30.0 and 100.0\n",
        "* Print the array."
      ]
    },
    {
      "cell_type": "code",
      "execution_count": 17,
      "id": "5f2e97b8",
      "metadata": {
        "colab": {
          "base_uri": "https://localhost:8080/"
        },
        "id": "5f2e97b8",
        "outputId": "f72be8f5-fff3-4edf-98ba-e9393c208fab"
      },
      "outputs": [
        {
          "output_type": "stream",
          "name": "stdout",
          "text": [
            "[[95.48987769 66.12126833 54.055615   92.25059355 63.19509739 57.08304095\n",
            "  37.91389807 50.45762151 73.60630347 90.20944624 53.08271705 65.29376354\n",
            "  86.94555431 64.29397096 91.17461662 38.89411082 38.69459461]\n",
            " [39.63707048 59.84324073 36.35758102 51.76813154 81.20405895 74.44239139\n",
            "  63.07903337 30.62376531 73.95026674 90.92333558 98.60581714 38.27750266\n",
            "  74.36316502 74.8834242  95.30948555 88.86631056 57.17012122]\n",
            " [40.3345518  99.89215856 34.34300927 92.81105568 56.60766447 55.96539911\n",
            "  33.91019344 57.93778708 81.97855554 73.3052651  34.19821851 93.03372479\n",
            "  89.11459519 89.57589584 56.32829451 34.7134118  62.68706139]\n",
            " [44.94306501 95.20372923 88.33425143 82.14984512 57.39085941 36.90236805\n",
            "  58.64813859 88.03871353 87.47236446 89.16787782 58.55780761 31.09739163\n",
            "  85.56305162 97.84202425 40.96717751 84.24157289 87.00748315]\n",
            " [93.11125562 76.56106742 65.31911075 73.47948106 30.79528142 68.9115847\n",
            "  79.68758363 65.12089328 89.20245977 96.62881661 97.88317768 36.1567798\n",
            "  51.37218626 41.68394469 87.28512247 54.97289278 35.13107017]\n",
            " [85.93591973 44.60785721 42.68512544 89.54340611 56.08410604 38.36913364\n",
            "  36.64171511 32.30960616 97.05261407 89.79962461 34.19170245 77.15039253\n",
            "  32.28464029 66.7850971  98.91402755 74.43677958 44.45786828]\n",
            " [30.66262269 57.53248361 38.39829973 80.34306207 83.71994617 36.43111021\n",
            "  33.94052377 48.1624726  72.38079088 73.27486033 70.72096377 95.49711805\n",
            "  74.63310443 76.75610569 41.29790404 93.21755848 79.80164479]\n",
            " [33.52606539 73.31215707 44.89952035 53.4674825  54.1338374  33.51201905\n",
            "  74.80515866 72.98414048 93.55063425 82.03793216 89.97766187 56.35708581\n",
            "  43.96094596 72.77649154 44.83965715 89.02476029 67.54517189]\n",
            " [84.81149412 90.37836042 72.47694203 41.16546512 59.57841898 58.87351027\n",
            "  94.78104798 93.26738358 47.16422525 32.35911139 63.5856794  49.27078649\n",
            "  71.38945638 54.03258003 80.90773778 40.47218775 30.58217345]\n",
            " [40.17741992 82.53102753 35.06483924 45.50945417 76.445417   56.96201285\n",
            "  37.64466116 58.42557177 57.95874214 90.2814194  92.01019158 97.45351773\n",
            "  76.09672621 58.31742997 91.65246571 39.34096919 90.01837796]\n",
            " [68.99430864 86.08042724 78.15487772 33.8291101  56.16318892 45.84869897\n",
            "  77.09450838 43.16052998 30.98576634 70.52070901 71.09569549 41.63189314\n",
            "  44.28259396 98.60182189 68.38621124 63.49471538 63.94078647]\n",
            " [55.184649   44.14624338 84.99266706 34.66525303 85.86618939 64.31006582\n",
            "  95.02704024 63.18867501 84.78129405 52.71504906 63.83277838 90.78189834\n",
            "  48.78737075 49.23463193 33.71347139 91.64478831 36.38596891]\n",
            " [76.81404251 94.23744351 37.04068638 88.85206258 81.17853543 64.09816201\n",
            "  82.53247822 42.71780115 58.81355644 65.60044822 41.45320294 73.72012426\n",
            "  63.32214448 71.18295534 65.06861648 60.29400646 64.09927139]\n",
            " [65.72323862 85.87145411 48.79978897 38.77800336 62.57091729 94.11894424\n",
            "  94.67842016 48.68093231 93.18075387 46.15104391 97.7934676  47.68020887\n",
            "  37.67459684 59.54714005 46.27039388 80.07485378 58.10127025]\n",
            " [66.60775454 35.19504042 50.63990571 92.7095989  99.23324419 35.26420275\n",
            "  51.96656954 87.66461756 69.67160679 85.29354988 33.79801867 32.0609766\n",
            "  95.47409287 78.64934358 32.10900466 60.51733168 45.60763223]\n",
            " [47.01683617 75.13457609 51.89482168 75.60451772 39.91549628 80.6023271\n",
            "  68.54349238 74.78111922 79.25054439 98.03949575 91.41131839 63.82291618\n",
            "  70.66449885 91.64517851 33.87095985 71.43197487 35.12106964]\n",
            " [42.45775046 39.89134557 31.09994473 32.87452068 71.80204093 51.57059921\n",
            "  86.12137722 65.0690052  60.63963454 39.67255764 52.32791095 33.32007562\n",
            "  50.18497543 69.32377011 54.90076359 43.60790974 41.42515697]]\n"
          ]
        }
      ],
      "source": [
        "# TODO: implement here\n",
        "A = np.zeros((17,17))\n",
        "A = np.random.uniform(30.0, 100.0, size=(17, 17))\n",
        "print (A)"
      ]
    },
    {
      "cell_type": "markdown",
      "id": "a014f710",
      "metadata": {
        "id": "a014f710"
      },
      "source": [
        "## P4: solving a system of linear equations with numpy\n",
        "* Consider a system of 17 linear equations.\n",
        "* The parameters of the unknowns are the same as the array A created above.\n",
        "* The left side of the equations is all 25.0 for each equation. Create a vector b for this.\n",
        "* Solve this system of equations using numpy.linalg.solve. Print out the solutions.\n",
        "* Solve the save system of equations, by taking the inverse of the A array and left multipying b with it. Print out the solutions.\n",
        "* Check if the solutions are identical and print \"Solutions are identical\" if they are and \"Solutions are not identical\" if they are not. Discuss it in form of comments in the code.\n"
      ]
    },
    {
      "cell_type": "code",
      "execution_count": 25,
      "id": "6bf4d2d1",
      "metadata": {
        "colab": {
          "base_uri": "https://localhost:8080/"
        },
        "id": "6bf4d2d1",
        "outputId": "eed15c89-0245-4fd0-e5b3-b5c97e47bbc7"
      },
      "outputs": [
        {
          "output_type": "stream",
          "name": "stdout",
          "text": [
            "Solving system of equations:\n",
            "[[-0.07541888]\n",
            " [-0.02282616]\n",
            " [ 0.1129621 ]\n",
            " [ 0.17323972]\n",
            " [ 0.15771084]\n",
            " [-0.02585477]\n",
            " [ 0.02913437]\n",
            " [ 0.01546705]\n",
            " [ 0.05428242]\n",
            " [-0.08253663]\n",
            " [ 0.14967481]\n",
            " [ 0.0164548 ]\n",
            " [-0.13248375]\n",
            " [ 0.12578681]\n",
            " [ 0.06647125]\n",
            " [-0.14155245]\n",
            " [-0.03735045]]\n",
            "[[ 7.97202914e-02 -1.64852381e-02 -5.32527203e-02  2.04261113e-02\n",
            "  -5.51625748e-02 -4.20753371e-03 -1.90091080e-02  3.09969189e-02\n",
            "  -3.08161688e-03  7.06568909e-03 -1.83907081e-02 -4.73844169e-03\n",
            "   2.13863701e-02  9.80133826e-03 -2.67173645e-02  2.13129472e-02\n",
            "   7.31888444e-03]\n",
            " [-2.87812323e-02  1.07504346e-02  2.91540726e-02 -1.75183988e-02\n",
            "   9.64869980e-03  7.35053943e-04 -8.49446503e-03  8.21407780e-03\n",
            "   1.03230193e-02 -3.52151043e-03  1.20191730e-02 -8.47739373e-04\n",
            "  -6.11008759e-03  6.59349299e-03  2.14621577e-02 -1.35703035e-02\n",
            "  -3.09694911e-02]\n",
            " [-6.04815865e-02  5.60120173e-03  4.54673633e-02 -1.55761712e-02\n",
            "   5.42404717e-02  1.80291188e-03  2.16432317e-02 -3.54059864e-02\n",
            "  -8.61644197e-04 -8.69903166e-03  2.64565001e-02  9.29732609e-03\n",
            "  -2.71267669e-02 -2.95215644e-03  2.45108590e-02 -2.52573361e-02\n",
            "  -8.14070185e-03]\n",
            " [-8.87734680e-02  5.63374412e-03  5.61783644e-02 -2.86577369e-02\n",
            "   7.69177036e-02  5.22406410e-03  4.22084530e-02 -4.50618413e-02\n",
            "   2.85206211e-03 -1.57781081e-02  2.52331051e-02 -4.97200787e-03\n",
            "  -2.22593007e-02 -5.05640307e-03  3.44986498e-02 -2.67020349e-02\n",
            "  -4.55565671e-03]\n",
            " [-8.89087752e-02  1.58291199e-02  6.70575473e-02 -4.51059649e-02\n",
            "   5.69542022e-02  5.75914289e-03  1.48239306e-02 -2.38431513e-02\n",
            "   5.95819746e-03 -7.04952215e-03  3.52582546e-02  2.59727215e-03\n",
            "  -3.22874482e-02  8.59135488e-03  5.87818020e-02 -3.82598266e-02\n",
            "  -2.98477021e-02]\n",
            " [-1.67585646e-02  1.33220656e-03 -6.56044072e-03  1.02116978e-02\n",
            "  -2.32320560e-03  1.16675175e-02 -4.01824454e-03 -2.72599672e-02\n",
            "   1.88593350e-03  1.12954563e-02 -7.98294490e-03 -9.43723624e-04\n",
            "   3.14610143e-03  8.18349129e-03  7.08086419e-04  1.55237532e-02\n",
            "   8.58656506e-04]\n",
            " [ 3.56700591e-02 -5.04523458e-03 -2.22029064e-02  1.29918965e-02\n",
            "  -1.12743172e-02 -1.37483044e-02 -6.44691039e-03  1.60991594e-02\n",
            "  -1.11525149e-02 -3.57888140e-03 -1.11377706e-02  6.47101756e-03\n",
            "   2.36442425e-02 -1.44430656e-02 -2.60406312e-02  6.96532222e-03\n",
            "   2.43942142e-02]\n",
            " [-2.37257027e-02 -3.65528970e-03 -4.07750708e-03  2.07354309e-03\n",
            "  -2.21635621e-03  1.46007208e-02 -2.43115124e-03 -7.74123602e-03\n",
            "   1.51010722e-02  1.12245749e-02 -6.22473557e-03 -6.54675506e-03\n",
            "  -4.16613538e-03  2.16135909e-03  1.10657813e-02  1.04389388e-02\n",
            "  -5.26243913e-03]\n",
            " [ 1.51007572e-02 -3.17078944e-04  9.70547463e-03 -7.18628085e-04\n",
            "  -2.31581712e-03 -3.48404044e-03 -6.97405110e-03  1.36159817e-02\n",
            "  -7.41611025e-03 -5.77969225e-03 -2.53783999e-03  4.07636494e-03\n",
            "  -8.96363043e-03  6.89606954e-03 -2.14292475e-03 -1.04676205e-02\n",
            "   3.89408276e-03]\n",
            " [ 2.15662330e-02  1.19919979e-03 -1.86696931e-02  7.86604920e-03\n",
            "  -2.08338442e-02 -6.92951674e-04 -2.73496098e-02  1.86540391e-02\n",
            "  -8.68020789e-03  1.21866604e-02 -7.08725380e-03  5.91979149e-03\n",
            "   1.60795264e-02 -6.65500003e-03 -3.42643396e-03  1.39118666e-02\n",
            "  -7.28983686e-03]\n",
            " [-4.08200142e-02  2.61221751e-03  3.63417847e-02 -2.94831646e-02\n",
            "   4.62953267e-02 -6.86689306e-03  2.97962949e-02 -1.35967154e-02\n",
            "   7.66849410e-04 -1.12778063e-02  2.41534744e-02 -4.79823243e-03\n",
            "  -2.71527198e-02  4.00692361e-03  2.28534302e-02 -2.15866488e-02\n",
            "  -5.25711422e-03]\n",
            " [ 2.02179341e-02 -7.60951336e-03 -1.11626550e-02  2.48312842e-03\n",
            "  -1.35823196e-02 -1.33343063e-03  1.75927646e-04  7.57595359e-03\n",
            "  -1.22634863e-03  3.58619206e-03 -5.70959196e-03  4.99345389e-03\n",
            "   6.92114009e-03 -5.22312383e-03 -1.43216282e-02  9.19222297e-03\n",
            "   5.68085050e-03]\n",
            " [ 1.12109484e-01 -5.83884261e-03 -6.38162023e-02  3.95633825e-02\n",
            "  -6.89306437e-02 -2.16480832e-02 -2.13154011e-02  3.91540907e-02\n",
            "  -7.03830543e-03  2.96403234e-03 -3.63959903e-02  3.60865519e-03\n",
            "   3.26915480e-02 -7.95968610e-03 -5.28829221e-02  2.72637577e-02\n",
            "   2.31717767e-02]\n",
            " [-3.18481206e-03 -1.93716197e-03  1.12033960e-02 -7.80424118e-03\n",
            "   1.28257941e-04  2.32418975e-03  5.91150923e-03 -2.23225936e-03\n",
            "  -1.91924675e-03 -7.58553608e-03  1.38179787e-02 -5.26472472e-03\n",
            "  -1.24893672e-02  2.45552049e-03  2.85715164e-03  5.49064013e-04\n",
            "   8.20175396e-03]\n",
            " [-2.25849265e-02  8.72969674e-03  1.00080840e-02 -2.04523604e-03\n",
            "   1.33970363e-02  9.58826303e-03  5.82133606e-03 -1.27892396e-02\n",
            "   8.35371136e-03 -1.45357627e-04  1.65486572e-03 -2.41828561e-03\n",
            "  -6.43550536e-03 -6.65932146e-03  1.25261796e-03 -5.86895714e-03\n",
            "   2.80006819e-03]\n",
            " [ 4.43834112e-02  2.18497295e-03 -4.81498267e-02  2.58260724e-02\n",
            "  -5.10527021e-02  6.64800742e-03 -1.45894768e-02  2.04104410e-02\n",
            "   9.93915938e-03  5.38376616e-03 -2.56539208e-02 -2.08564160e-03\n",
            "   2.38359439e-02  5.42838571e-06 -2.52105107e-02  2.67572168e-02\n",
            "  -4.29443910e-03]\n",
            " [ 4.52086499e-02 -1.64144155e-02 -4.49810931e-02  3.49919789e-02\n",
            "  -2.83547100e-02 -2.61287976e-03 -3.35746484e-03  1.66642175e-03\n",
            "  -1.22174260e-02  1.49472550e-02 -2.04890566e-02 -3.61067807e-03\n",
            "   2.26173826e-02  1.15847486e-03 -3.18426694e-02  1.50253591e-02\n",
            "   2.67708532e-02]]\n",
            "Solving system of equations using inverse:\n",
            "[[-0.07541888]\n",
            " [-0.02282616]\n",
            " [ 0.1129621 ]\n",
            " [ 0.17323972]\n",
            " [ 0.15771084]\n",
            " [-0.02585477]\n",
            " [ 0.02913437]\n",
            " [ 0.01546705]\n",
            " [ 0.05428242]\n",
            " [-0.08253663]\n",
            " [ 0.14967481]\n",
            " [ 0.0164548 ]\n",
            " [-0.13248375]\n",
            " [ 0.12578681]\n",
            " [ 0.06647125]\n",
            " [-0.14155245]\n",
            " [-0.03735045]]\n",
            "Solutions are identical\n"
          ]
        }
      ],
      "source": [
        "# TODO: implement here\n",
        "B = np.zeros((17,1))\n",
        "B[:] = 25.0\n",
        "#print(B)\n",
        "\n",
        "x = np.linalg.solve(A, B)\n",
        "print(\"Solving system of equations:\")\n",
        "print(x)\n",
        "A_Inverse = np.linalg.inv(A)\n",
        "y = np.dot(A_Inverse, B)\n",
        "print(\"Solving system of equations using inverse:\")\n",
        "print(y)\n",
        "if(np.allclose(x,y)):\n",
        "  print(\"Solutions are identical\")\n",
        "else:\n",
        "  print(\"Solutions are not identical\")\n",
        "#print(x)\n",
        "#print(y)\n",
        "# The solutions are identical because on the left side of the equation, you have an identity matrix because of the inverse\n",
        "# Therefore, on the right side, all you would have to do is multiply the B with the inverse to solve"
      ]
    },
    {
      "cell_type": "markdown",
      "id": "acd1cb25",
      "metadata": {
        "id": "acd1cb25"
      },
      "source": [
        "## P5: create a pandas dataframe by reading a csv file\n",
        "* Read in the \"houses_Madrid.csv\" dataset which contains information about houses and apartments sold in Madrid, and create a pandas dataframe called \"df\"\n",
        "* Print out the number of rows in the dataframe\n",
        "* Print out the columns of the dataframe\n"
      ]
    },
    {
      "cell_type": "code",
      "execution_count": 29,
      "id": "2b3f814f",
      "metadata": {
        "id": "2b3f814f",
        "colab": {
          "base_uri": "https://localhost:8080/"
        },
        "outputId": "3d32ad96-b23e-4721-a207-f7dd572baeb8"
      },
      "outputs": [
        {
          "output_type": "stream",
          "name": "stdout",
          "text": [
            "Rows: 21742\n",
            "Cols: 58\n"
          ]
        }
      ],
      "source": [
        "# TODO: implement here\n",
        "file_path = 'houses_Madrid.csv'\n",
        "df = pd.read_csv(file_path, on_bad_lines='skip', low_memory=False)\n",
        "num_rows, num_cols = df.shape\n",
        "print(\"Rows:\", num_rows)\n",
        "print(\"Cols:\",num_cols)\n",
        "\n",
        "#print(df)"
      ]
    },
    {
      "cell_type": "markdown",
      "id": "db89d894",
      "metadata": {
        "id": "db89d894"
      },
      "source": [
        "## P6: Selecting columns from a pandas dataframe and calculating values\n",
        "* Select the \"buy_price\" column from the dataframe.\n",
        "* Calculate the average buying price and print it out.\n",
        "* Calculate the maximum buying price and print it out."
      ]
    },
    {
      "cell_type": "code",
      "execution_count": 30,
      "id": "50bcbc63",
      "metadata": {
        "id": "50bcbc63",
        "colab": {
          "base_uri": "https://localhost:8080/"
        },
        "outputId": "d7798379-bd97-4e27-e58f-8f6b4178aa7d"
      },
      "outputs": [
        {
          "output_type": "stream",
          "name": "stdout",
          "text": [
            "Average Buying Price:  653735.6475025297\n",
            "Maximum Buying Price:  8800000\n"
          ]
        }
      ],
      "source": [
        "# TODO: implement here\n",
        "buy_price = df['buy_price']\n",
        "\n",
        "print(\"Average Buying Price: \", buy_price.mean())\n",
        "print(\"Maximum Buying Price: \", buy_price.max())\n"
      ]
    },
    {
      "cell_type": "markdown",
      "id": "1cff514e",
      "metadata": {
        "id": "1cff514e"
      },
      "source": [
        "## P7: Selecting rows from a pandas dataframe\n",
        "* Select the rows from df where the price was larger than one million and put it into a new dataframe df2\n",
        "* Print out how many houses were like this."
      ]
    },
    {
      "cell_type": "code",
      "execution_count": 31,
      "id": "02b9b261",
      "metadata": {
        "id": "02b9b261",
        "colab": {
          "base_uri": "https://localhost:8080/"
        },
        "outputId": "7a222ae9-ef8d-40ab-8034-89f45c66be2b"
      },
      "outputs": [
        {
          "output_type": "stream",
          "name": "stdout",
          "text": [
            "Number of Houses:  3642\n"
          ]
        }
      ],
      "source": [
        "# TODO: implement here\n",
        "df2 = df.loc[df['buy_price'] > 1000000]\n",
        "print(\"Number of Houses: \", df2.shape[0])\n"
      ]
    },
    {
      "cell_type": "markdown",
      "id": "d4e22835",
      "metadata": {
        "id": "d4e22835"
      },
      "source": [
        "## P8 - part 1: create a scatterplot in matplotlib\n",
        "* From the df dataset, select the \"sq_mt_built\" and \"buy_price\" columns\n",
        "* Convert them to numpy arrays.\n",
        "* Using the matplotlib.pyplot interface, create a scatterplot of the buying price (on the y axis) against the square meters area (on the x axis)"
      ]
    },
    {
      "cell_type": "code",
      "execution_count": 32,
      "id": "848c94f2",
      "metadata": {
        "id": "848c94f2",
        "colab": {
          "base_uri": "https://localhost:8080/",
          "height": 480
        },
        "outputId": "ff98314a-2190-48f5-bdb3-7f43cee6e15f"
      },
      "outputs": [
        {
          "output_type": "stream",
          "name": "stdout",
          "text": [
            "[ 64.  70.  94. ... 175. 289.  72.]\n"
          ]
        },
        {
          "output_type": "execute_result",
          "data": {
            "text/plain": [
              "<matplotlib.collections.PathCollection at 0x7c4a29bcb850>"
            ]
          },
          "metadata": {},
          "execution_count": 32
        },
        {
          "output_type": "display_data",
          "data": {
            "text/plain": [
              "<Figure size 640x480 with 1 Axes>"
            ],
            "image/png": "[encoded data removed]"
          },
          "metadata": {}
        }
      ],
      "source": [
        "# TODO: implement here\n",
        "sq_mt_built = np.array(df['sq_mt_built'])\n",
        "buy_price = np.array(df['buy_price'])\n",
        "print(sq_mt_built)\n",
        "\n",
        "\n",
        "plt.scatter(x=sq_mt_built, y=buy_price)\n",
        "\n",
        "\n"
      ]
    },
    {
      "cell_type": "markdown",
      "id": "18d12178",
      "metadata": {
        "id": "18d12178"
      },
      "source": [
        "## P8 - part 2: Create a line plot in matplotlib\n",
        "* Take the numpy array arr created in P1.\n",
        "* Plot its 2 and 3 rows using matplotlib pyplot.\n",
        "* The results should be two lines of different colors. The y axis is the values. The x axis is the indexes (0,1,2,...)"
      ]
    },
    {
      "cell_type": "code",
      "execution_count": 33,
      "id": "25790648",
      "metadata": {
        "id": "25790648",
        "colab": {
          "base_uri": "https://localhost:8080/",
          "height": 465
        },
        "outputId": "11955484-8459-45b9-a542-61ecb6f54685"
      },
      "outputs": [
        {
          "output_type": "display_data",
          "data": {
            "text/plain": [
              "<Figure size 640x480 with 1 Axes>"
            ],
            "image/png": "[encoded data removed]"
          },
          "metadata": {}
        },
        {
          "output_type": "stream",
          "name": "stdout",
          "text": [
            "[ 1.  2.  5. 10. 17.]\n",
            "[ 4.  5.  8. 13. 20.]\n"
          ]
        }
      ],
      "source": [
        "# TODO: implement here\n",
        "plt.plot(arr[1])\n",
        "plt.plot(arr[2])\n",
        "plt.show()\n",
        "print(arr[1])\n",
        "print(arr[2])"
      ]
    }
  ],
  "metadata": {
    "kernelspec": {
      "display_name": "Python 3",
      "language": "python",
      "name": "python3"
    },
    "language_info": {
      "codemirror_mode": {
        "name": "ipython",
        "version": 3
      },
      "file_extension": ".py",
      "mimetype": "text/x-python",
      "name": "python",
      "nbconvert_exporter": "python",
      "pygments_lexer": "ipython3",
      "version": "3.10.10"
    },
    "colab": {
      "provenance": []
    }
  },
  "nbformat": 4,
  "nbformat_minor": 5
}