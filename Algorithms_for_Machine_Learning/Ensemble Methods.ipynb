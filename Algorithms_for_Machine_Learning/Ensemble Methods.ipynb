{
  "cells": [
    {
      "cell_type": "markdown",
      "id": "c00bf530",
      "metadata": {
        "id": "c00bf530"
      },
      "source": [
        "# Homework 5\n",
        "\n",
        "This homework asks you to perform various experiments with ensemble methods.\n",
        "\n",
        "The dataset is the same real estate dataset we previously used from:\n",
        "\n",
        "https://www.kaggle.com/datasets/mirbektoktogaraev/madrid-real-estate-market\n",
        "\n",
        "You will write code and discussion into code and text cells in this notebook.\n",
        "\n",
        "If a code block starts with TODO:, this means that you need to write something there.\n",
        "\n",
        "There are also markdown blocks with questions. Write the answers to these questions in the specified locations.\n",
        "\n",
        "Some code had been written for you to guide the project. Don't change the already written code.\n",
        "\n",
        "## Grading\n",
        "The points add up to 10. Extensive partial credit will be offered. Thus, make sure that you are at least attempting all problems.\n",
        "\n",
        "Make sure to comment your code, such that the grader can understand what different components are doing or attempting to do."
      ]
    },
    {
      "cell_type": "code",
      "execution_count": 1,
      "id": "a440a191",
      "metadata": {
        "id": "a440a191"
      },
      "outputs": [],
      "source": [
        "import numpy as np\n",
        "import pandas as pd\n",
        "import sklearn.linear_model\n",
        "import sklearn.metrics\n",
        "import sklearn.ensemble\n"
      ]
    },
    {
      "cell_type": "markdown",
      "id": "39cba7e7",
      "metadata": {
        "id": "39cba7e7"
      },
      "source": [
        "# A. Setup.\n",
        "\n",
        "In this project we are going to work in a multi-variable setting.\n",
        "\n",
        "This time, there are 7 explanatory variables: ``sq_mt_built``, ``n_rooms``, ``n_bathrooms``, ``is_renewal_needed``, ``is_new_development`` and ``has_fitted_wardrobes``.\n",
        "\n",
        "We will first create the training and test data while doing some minimal data cleaning."
      ]
    },
    {
      "cell_type": "code",
      "execution_count": 2,
      "id": "5f68a641",
      "metadata": {
        "colab": {
          "base_uri": "https://localhost:8080/"
        },
        "id": "5f68a641",
        "outputId": "79345720-7ca4-4ad3-c091-0f5474942a85"
      },
      "outputs": [
        {
          "output_type": "stream",
          "name": "stdout",
          "text": [
            "(9764, 7)\n",
            "Training data is composed of 8000 samples.\n",
            "Test data is composed of 1764 samples.\n"
          ]
        }
      ],
      "source": [
        "df = pd.read_csv(\"houses_Madrid.csv\")\n",
        "#print(f\"The columns of the database {df.columns}\")\n",
        "\n",
        "xfields = [\"sq_mt_built\", \"n_rooms\", \"n_bathrooms\", \"has_individual_heating\", \\\n",
        "           \"is_renewal_needed\", \"is_new_development\", \"has_fitted_wardrobes\"]\n",
        "yfield = [\"buy_price\"]\n",
        "# print (xfields + yfield)\n",
        "dfsel = df[xfields + yfield]\n",
        "dfselnona = dfsel.dropna()\n",
        "df_shuffled = dfselnona.sample(frac=1) # shuffle the rows\n",
        "x = df_shuffled[xfields].to_numpy(dtype=np.float64)\n",
        "y = df_shuffled[yfield].to_numpy(dtype=np.float64)\n",
        "print(x.shape)\n",
        "training_data_x = x[:8000]\n",
        "training_data_y = y[:8000]\n",
        "test_data_x = x[8000:]\n",
        "test_data_y = y[8000:]\n",
        "print(f\"Training data is composed of {len(training_data_x)} samples.\")\n",
        "print(f\"Test data is composed of {len(test_data_x)} samples.\")\n",
        "# print(test_data_x[45])"
      ]
    },
    {
      "cell_type": "markdown",
      "id": "395f2cfb",
      "metadata": {
        "id": "395f2cfb"
      },
      "source": [
        "# B. Creating a linear regression multi-variable baseline.\n",
        "\n",
        "In this section we make a linear regression predictor for the multi-variable case. We also check the performance of the resulting regressor, and print the error.\n",
        "\n",
        "This part is had been done for you, such that the work does not depend on you importing parts from the previous projects.\n",
        "\n",
        "You will need to adapt this for the other models."
      ]
    },
    {
      "cell_type": "code",
      "execution_count": 3,
      "id": "5b2cc6cc",
      "metadata": {
        "colab": {
          "base_uri": "https://localhost:8080/"
        },
        "id": "5b2cc6cc",
        "outputId": "a9258713-1bca-4eeb-8962-c68a9890e110"
      },
      "outputs": [
        {
          "output_type": "stream",
          "name": "stdout",
          "text": [
            "House 45 with 239.0 sqmt was sold for [600000.] euros, but our system predicted 1041267.85\n",
            "House 67 with 345.0 sqmt was sold for [1375000.] euros, but our system predicted 1643583.67\n",
            "House 170 with 118.0 sqmt was sold for [480000.] euros, but our system predicted 553617.87\n",
            "House 189 with 670.0 sqmt was sold for [2800000.] euros, but our system predicted 2888539.26\n",
            "House 207 with 216.0 sqmt was sold for [1180000.] euros, but our system predicted 983130.87\n",
            "The mean square error of the linear regression is 351143.43 euro\n"
          ]
        }
      ],
      "source": [
        "# training the linear regressor\n",
        "regressor = sklearn.linear_model.LinearRegression()\n",
        "regressor.fit(training_data_x, training_data_y)\n",
        "# We will create the predictions yhat for every x from the training data. We will do this one at a time. This is not an efficient way to do it, but it allows you to write and debug functions that return a scalar number\n",
        "yhats = []\n",
        "for x in test_data_x:\n",
        "    yhat = regressor.predict([x])\n",
        "    yhats.append(yhat[0])\n",
        "\n",
        "# Now, print some examples of the quality of the classifier\n",
        "examples = [45, 67, 170, 189, 207]\n",
        "for i in examples:\n",
        "    x = test_data_x[i]\n",
        "    y = test_data_y[i]\n",
        "    yhat = regressor.predict([x])[0][0]\n",
        "    print(f\"House {i} with {x[0]} sqmt was sold for {y} euros, but our system predicted {yhat:.2f}\")\n",
        "\n",
        "# Now calculate the root mean square error on the resulting arrays\n",
        "error = sklearn.metrics.mean_squared_error(yhats, test_data_y, squared=False)\n",
        "print(f\"The mean square error of the linear regression is {error:.2f} euro\")"
      ]
    },
    {
      "cell_type": "markdown",
      "id": "85113c6b",
      "metadata": {
        "id": "85113c6b"
      },
      "source": [
        "# P1: Random Forest using sklearn (5 points)\n",
        "\n",
        "Use the RandomForestRegressor function from sklearn to predict the prices of the house. Print the resulting error and samples, similar to the way in Section B.\n",
        "\n",
        "Experiment with the settings of the hyperparameters: n_estimators (try at least values 10, 25, 100, 200) and max_depth (try at least values 1, 2, 4, 8, 16 and None).\n",
        "\n",
        "Retain the hyperparameter value that gives you the best result.\n",
        "\n"
      ]
    },
    {
      "cell_type": "code",
      "execution_count": 18,
      "id": "e9dcd129",
      "metadata": {
        "colab": {
          "base_uri": "https://localhost:8080/"
        },
        "id": "e9dcd129",
        "outputId": "cc490c77-12ab-40c7-b053-26ec7db6d4fa"
      },
      "outputs": [
        {
          "output_type": "stream",
          "name": "stderr",
          "text": [
            "<ipython-input-18-48321040f021>:4: DataConversionWarning: A column-vector y was passed when a 1d array was expected. Please change the shape of y to (n_samples,), for example using ravel().\n",
            "  regressor.fit(training_data_x, training_data_y)\n"
          ]
        },
        {
          "output_type": "stream",
          "name": "stdout",
          "text": [
            "House 45 with 239.0 sqmt was sold for [600000.] euros, but our system predicted 1326430.61\n",
            "House 67 with 345.0 sqmt was sold for [1375000.] euros, but our system predicted 1851927.77\n",
            "House 170 with 118.0 sqmt was sold for [480000.] euros, but our system predicted 488443.39\n",
            "House 189 with 670.0 sqmt was sold for [2800000.] euros, but our system predicted 2360319.16\n",
            "House 207 with 216.0 sqmt was sold for [1180000.] euros, but our system predicted 897915.97\n",
            "The mean square error of the linear regression is 335896.89 euro\n"
          ]
        }
      ],
      "source": [
        "# TODO implement here\n",
        "from sklearn.ensemble import RandomForestRegressor\n",
        "regressor = sklearn.ensemble.RandomForestRegressor(n_estimators=25, max_depth=8)\n",
        "regressor.fit(training_data_x, training_data_y)\n",
        "\n",
        "yhats = []\n",
        "for x in test_data_x:\n",
        "    yhat = regressor.predict([x])\n",
        "    yhats.append(yhat[0])\n",
        "\n",
        "# Now, print some examples of the quality of the classifier\n",
        "examples = [45, 67, 170, 189, 207]\n",
        "for i in examples:\n",
        "    x = test_data_x[i]\n",
        "    y = test_data_y[i]\n",
        "    #yhat = regressor.predict([x])[0][0]\n",
        "    yhat = regressor.predict([x])[0]\n",
        "    print(f\"House {i} with {x[0]} sqmt was sold for {y} euros, but our system predicted {yhat:.2f}\")\n",
        "\n",
        "# Now calculate the root mean square error on the resulting arrays\n",
        "error = sklearn.metrics.mean_squared_error(yhats, test_data_y, squared=False)\n",
        "print(f\"The mean square error of the linear regression is {error:.2f} euro\")"
      ]
    },
    {
      "cell_type": "markdown",
      "id": "fbe6a914",
      "metadata": {
        "id": "fbe6a914"
      },
      "source": [
        "# Questions:\n",
        "* Q: Do you find that Random Forest performs better than the previous approaches you implemented? Discuss.\n",
        "* A: Random Forest does perform better than the previous approaches that I have implemented. It does not run as fast as some other approaches but random forest is still quick in its runtime.\n",
        "* Q: Explain the impact of the number of estimators and max tree depth hyperparameters on the accuracy. Which hyperparameter setting gives you the best value? Is this the same as the default settings in sklearn?\n",
        "* A: The best settings that I got were n_estimator=25 and max_depth = 8. This is different compared to the default settings of 100 and None respectively.\n",
        "* Q: Explain the impact of the hyperparameters on the training time.\n",
        "* A: Increasing the n_estimators definitely had an impact on the training time.\n"
      ]
    },
    {
      "cell_type": "markdown",
      "id": "e98e415f",
      "metadata": {
        "id": "e98e415f"
      },
      "source": [
        "# P2: AdaBoost using sklearn (5 points)\n",
        "\n",
        "Use the AdaBoost function from sklearn to predict the prices of the house. Print the resulting error and samples, similar to the way in Section B.\n",
        "\n",
        "Experiment with the settings of the hyperparameters: loss (try \"linear\", \"square\" and \"exponential) and learning_rate (try at least values 0.2, 0.5, 1 and 2)"
      ]
    },
    {
      "cell_type": "code",
      "execution_count": 37,
      "id": "fa7b135a",
      "metadata": {
        "id": "fa7b135a",
        "colab": {
          "base_uri": "https://localhost:8080/"
        },
        "outputId": "e16b1dc5-c735-4909-d768-be399814dc1a"
      },
      "outputs": [
        {
          "output_type": "stream",
          "name": "stderr",
          "text": [
            "/usr/local/lib/python3.10/dist-packages/sklearn/utils/validation.py:1143: DataConversionWarning: A column-vector y was passed when a 1d array was expected. Please change the shape of y to (n_samples, ), for example using ravel().\n",
            "  y = column_or_1d(y, warn=True)\n"
          ]
        },
        {
          "output_type": "stream",
          "name": "stdout",
          "text": [
            "House 45 with 239.0 sqmt was sold for [600000.] euros, but our system predicted 1442244.12\n",
            "House 67 with 345.0 sqmt was sold for [1375000.] euros, but our system predicted 2514598.16\n",
            "House 170 with 118.0 sqmt was sold for [480000.] euros, but our system predicted 432331.74\n",
            "House 189 with 670.0 sqmt was sold for [2800000.] euros, but our system predicted 2798357.72\n",
            "House 207 with 216.0 sqmt was sold for [1180000.] euros, but our system predicted 981241.83\n",
            "The mean square error of the linear regression is 454263.31 euro\n"
          ]
        }
      ],
      "source": [
        "# TODO implement here\n",
        "from sklearn.ensemble import AdaBoostRegressor\n",
        "regressor = sklearn.ensemble.AdaBoostRegressor(loss='linear', learning_rate=2)\n",
        "regressor.fit(training_data_x, training_data_y)\n",
        "\n",
        "yhats = []\n",
        "for x in test_data_x:\n",
        "    yhat = regressor.predict([x])\n",
        "    yhats.append(yhat[0])\n",
        "\n",
        "# Now, print some examples of the quality of the classifier\n",
        "examples = [45, 67, 170, 189, 207]\n",
        "for i in examples:\n",
        "    x = test_data_x[i]\n",
        "    y = test_data_y[i]\n",
        "    #yhat = regressor.predict([x])[0][0]\n",
        "    yhat = regressor.predict([x])[0]\n",
        "    print(f\"House {i} with {x[0]} sqmt was sold for {y} euros, but our system predicted {yhat:.2f}\")\n",
        "\n",
        "# Now calculate the root mean square error on the resulting arrays\n",
        "error = sklearn.metrics.mean_squared_error(yhats, test_data_y, squared=False)\n",
        "print(f\"The mean square error of the linear regression is {error:.2f} euro\")\n"
      ]
    },
    {
      "cell_type": "markdown",
      "id": "165b9e5c",
      "metadata": {
        "id": "165b9e5c"
      },
      "source": [
        "# Questions:\n",
        "* Q: Do you find that Adaboost performs better than the previous approaches you implemented? Discuss.\n",
        "* A: I found that Adaboost performs worse compared to Random Forest as they have comparable runtimes but Adaboost seems to have a worse MSE.\n",
        "* Q: Explain the impact of the loss and the learning_rate hyperparameters on the accuracy. Which hyperparameter setting gives you the best value? Is this the same as the default settings in sklearn?\n",
        "* A: The best parameter settings I got were 'linear' and 2 for loss and learning rate respectively. These are close to default values with the only difference being the default learning rate is 1.\n",
        "* Q: Explain the impact of the hyperparameters on the training time.\n",
        "* A: Changing the loss parameter from linear to either square or exponential increased the training time."
      ]
    }
  ],
  "metadata": {
    "kernelspec": {
      "display_name": "Python 3",
      "language": "python",
      "name": "python3"
    },
    "language_info": {
      "codemirror_mode": {
        "name": "ipython",
        "version": 3
      },
      "file_extension": ".py",
      "mimetype": "text/x-python",
      "name": "python",
      "nbconvert_exporter": "python",
      "pygments_lexer": "ipython3",
      "version": "3.10.10"
    },
    "colab": {
      "provenance": []
    }
  },
  "nbformat": 4,
  "nbformat_minor": 5
}